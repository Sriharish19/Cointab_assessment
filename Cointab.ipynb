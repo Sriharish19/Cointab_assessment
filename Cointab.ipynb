{
  "nbformat": 4,
  "nbformat_minor": 0,
  "metadata": {
    "colab": {
      "provenance": [],
      "authorship_tag": "ABX9TyMRZ8uQNXPh91iBFRqB2gtZ",
      "include_colab_link": true
    },
    "kernelspec": {
      "name": "python3",
      "display_name": "Python 3"
    },
    "language_info": {
      "name": "python"
    }
  },
  "cells": [
    {
      "cell_type": "markdown",
      "metadata": {
        "id": "view-in-github",
        "colab_type": "text"
      },
      "source": [
        "<a href=\"https://colab.research.google.com/github/Sriharish19/Cointab_assessment/blob/main/Cointab.ipynb\" target=\"_parent\"><img src=\"https://colab.research.google.com/assets/colab-badge.svg\" alt=\"Open In Colab\"/></a>"
      ]
    },
    {
      "cell_type": "code",
      "execution_count": 1,
      "metadata": {
        "id": "YvAVZKoprMwt"
      },
      "outputs": [],
      "source": [
        "import pandas as pd\n",
        "import numpy as np\n"
      ]
    },
    {
      "cell_type": "code",
      "source": [
        "# Mounting the drive\n",
        "from google.colab import drive\n",
        "drive.mount('/content/My_drive')\n"
      ],
      "metadata": {
        "colab": {
          "base_uri": "https://localhost:8080/"
        },
        "id": "nnCOY9h4rNut",
        "outputId": "c87be1cd-78a4-464c-e50e-0151b2965292"
      },
      "execution_count": 2,
      "outputs": [
        {
          "output_type": "stream",
          "name": "stdout",
          "text": [
            "Mounted at /content/My_drive\n"
          ]
        }
      ]
    },
    {
      "cell_type": "code",
      "source": [
        "# Loading the file\n",
        "df = pd.read_excel('/content/My_drive/MyDrive/Cointab/Company X - Order Report.xlsx')"
      ],
      "metadata": {
        "id": "8KZhDeagrNsr"
      },
      "execution_count": 3,
      "outputs": []
    },
    {
      "cell_type": "code",
      "source": [
        "df.duplicated().sum()\n",
        "     "
      ],
      "metadata": {
        "colab": {
          "base_uri": "https://localhost:8080/"
        },
        "id": "HTII8dTYrNoN",
        "outputId": "319a28e0-813e-4d19-ed18-25d7ed3e60e3"
      },
      "execution_count": 5,
      "outputs": [
        {
          "output_type": "execute_result",
          "data": {
            "text/plain": [
              "2"
            ]
          },
          "metadata": {},
          "execution_count": 5
        }
      ]
    },
    {
      "cell_type": "code",
      "source": [
        "df1=df.drop_duplicates()\n"
      ],
      "metadata": {
        "id": "ZFv3EDeOtS2f"
      },
      "execution_count": 8,
      "outputs": []
    },
    {
      "cell_type": "code",
      "source": [
        "df2=pd.read_excel('/content/My_drive/MyDrive/Cointab/Company X - SKU Master.xlsx')"
      ],
      "metadata": {
        "id": "SV2EvgRZteKd"
      },
      "execution_count": 11,
      "outputs": []
    },
    {
      "cell_type": "code",
      "source": [
        "df2.drop_duplicates(inplace=True)"
      ],
      "metadata": {
        "id": "ue2Ra1xHuHhm"
      },
      "execution_count": 14,
      "outputs": []
    },
    {
      "cell_type": "code",
      "source": [
        "df3=pd.merge(df1,df2,how='left',on='SKU')\n"
      ],
      "metadata": {
        "id": "3zhDg28judGR"
      },
      "execution_count": null,
      "outputs": []
    },
    {
      "cell_type": "code",
      "source": [
        "df3.rename(columns = {'Order Qty':'Order_Qty','Weight (g)':'Weight_g','ExternOrderNo':'Order ID'}, inplace = True)"
      ],
      "metadata": {
        "id": "2Sq56kEhw0Ae"
      },
      "execution_count": 47,
      "outputs": []
    },
    {
      "cell_type": "code",
      "source": [
        "df3['total_weight']=df3['Order_Qty']*df3['Weight_g']"
      ],
      "metadata": {
        "id": "V_VjKDsSu5KI"
      },
      "execution_count": 48,
      "outputs": []
    },
    {
      "cell_type": "code",
      "source": [
        "zone=pd.read_excel('/content/My_drive/MyDrive/Cointab/Company X - Pincode Zones.xlsx')"
      ],
      "metadata": {
        "id": "C4be32Rz1YnG"
      },
      "execution_count": 26,
      "outputs": []
    },
    {
      "cell_type": "code",
      "source": [
        "zone.rename(columns = {'Zone':'Zone1'}, inplace = True)\n"
      ],
      "metadata": {
        "id": "DlTRpf221fRv"
      },
      "execution_count": 28,
      "outputs": []
    },
    {
      "cell_type": "code",
      "source": [
        "zone.drop_duplicates(inplace=True)"
      ],
      "metadata": {
        "id": "zGvAXnq4asHr"
      },
      "execution_count": 29,
      "outputs": []
    },
    {
      "cell_type": "code",
      "source": [
        "zone.columns"
      ],
      "metadata": {
        "colab": {
          "base_uri": "https://localhost:8080/"
        },
        "id": "P4GRfWF0btoO",
        "outputId": "084e705d-9fb8-4637-d41f-4b9d9f452050"
      },
      "execution_count": 30,
      "outputs": [
        {
          "output_type": "execute_result",
          "data": {
            "text/plain": [
              "Index(['Warehouse Pincode', 'Customer Pincode', 'Zone1'], dtype='object')"
            ]
          },
          "metadata": {},
          "execution_count": 30
        }
      ]
    },
    {
      "cell_type": "code",
      "source": [
        "zone=zone[['Customer Pincode', 'Zone1']]"
      ],
      "metadata": {
        "id": "hFuqtxA6brG-"
      },
      "execution_count": 31,
      "outputs": []
    },
    {
      "cell_type": "code",
      "source": [
        "cc=pd.read_excel('/content/My_drive/MyDrive/Cointab/Courier Company - Invoice.xlsx')"
      ],
      "metadata": {
        "id": "JScZtDSMv4wW"
      },
      "execution_count": 33,
      "outputs": []
    },
    {
      "cell_type": "code",
      "source": [
        "cc1=cc[['Order ID','Customer Pincode','Zone']]\n",
        "\n",
        "zone_compare=pd.merge(cc1,zone[['Customer Pincode','Zone1']],how='left',on='Customer Pincode')"
      ],
      "metadata": {
        "id": "ZcFZgUH_v4uG"
      },
      "execution_count": 37,
      "outputs": []
    },
    {
      "cell_type": "code",
      "source": [
        "zone_compare['mismatched']=(zone_compare['Zone'] != zone_compare['Zone1']).astype(int)"
      ],
      "metadata": {
        "id": "KQyu4zTcv4r2"
      },
      "execution_count": 38,
      "outputs": []
    },
    {
      "cell_type": "code",
      "source": [
        "company_orders=pd.merge(zone_compare[['Order ID','Zone1']],df3,how='left',on='Order ID')"
      ],
      "metadata": {
        "id": "14xx0eCf2irK"
      },
      "execution_count": 51,
      "outputs": []
    },
    {
      "cell_type": "code",
      "source": [
        "company_orders1=company_orders[['Order ID','Zone1','Order_Qty','xWeight_g','xtotal_weight']]"
      ],
      "metadata": {
        "id": "Kx12fzVN32Bl"
      },
      "execution_count": 59,
      "outputs": []
    },
    {
      "cell_type": "code",
      "source": [
        "company_orders2 = company_orders1.groupby('Order ID').sum()"
      ],
      "metadata": {
        "id": "BMNV9DTNXZ8r"
      },
      "execution_count": 60,
      "outputs": []
    },
    {
      "cell_type": "code",
      "source": [
        "company_orders.rename(columns={'xOrder ID':'Order ID', 'SKU':'xSKU',  'Weight_g':'xWeight_g', 'total_weight':'xtotal_weight'},inplace=True)"
      ],
      "metadata": {
        "id": "um-j6myk8CfM"
      },
      "execution_count": 56,
      "outputs": []
    },
    {
      "cell_type": "code",
      "source": [
        "new=pd.merge(cc,company_orders2,on='Order ID')\n",
        "new.head(15)"
      ],
      "metadata": {
        "id": "Qhhef69fS1tY"
      },
      "execution_count": null,
      "outputs": []
    },
    {
      "cell_type": "code",
      "source": [
        "new=pd.merge(new,zone,how='left',on='Customer Pincode')"
      ],
      "metadata": {
        "id": "0frbtLFZaEg5"
      },
      "execution_count": 68,
      "outputs": []
    },
    {
      "cell_type": "code",
      "source": [
        "num_dissimilar = new['Zone'].ne(new['Zone1']).sum()"
      ],
      "metadata": {
        "id": "uo2Lh_EvcOLR"
      },
      "execution_count": 70,
      "outputs": []
    },
    {
      "cell_type": "code",
      "source": [
        "wz=new[['xtotal_weight','Zone','Type of Shipment']]"
      ],
      "metadata": {
        "id": "SLpemqvVi8K2"
      },
      "execution_count": 72,
      "outputs": []
    },
    {
      "cell_type": "code",
      "source": [
        "new['key']=new['Zone1']+' ' +new['Type of Shipment']"
      ],
      "metadata": {
        "id": "9zwtcx6kBZgR"
      },
      "execution_count": 76,
      "outputs": []
    },
    {
      "cell_type": "code",
      "source": [
        "def get_weight_slab(weight):\n",
        "    if weight <= 500:\n",
        "        return 0.5\n",
        "    elif weight <= 1000:\n",
        "        return 1\n",
        "    elif weight <= 1500:\n",
        "        return 1.5\n",
        "    elif weight <= 2000:\n",
        "        return 2\n",
        "    elif weight <= 2500:\n",
        "        return 2.5\n",
        "    elif weight <= 3000:\n",
        "        return 3\n",
        "    elif weight <= 3500:\n",
        "        return 3.5\n",
        "\n",
        "# apply the function to create a new column for weight slab\n",
        "new['weight_slab'] = new['xtotal_weight'].apply(get_weight_slab)"
      ],
      "metadata": {
        "id": "Mj_kbM8SBjM6"
      },
      "execution_count": 81,
      "outputs": []
    },
    {
      "cell_type": "code",
      "source": [
        "new"
      ],
      "metadata": {
        "id": "ICHl1xq-CCRz"
      },
      "execution_count": null,
      "outputs": []
    },
    {
      "cell_type": "code",
      "source": [
        "charges_dict = {\n",
        "    'a Forward charges': {'fixed': 29.5, 'additional': 23.6},\n",
        "    'b Forward charges': {'fixed': 33, 'additional': 28.3},\n",
        "    'c Forward charges': {'fixed': 40.1, 'additional': 38.9},\n",
        "    'd Forward charges': {'fixed': 45.4, 'additional': 44.8},\n",
        "    'e Forward charges': {'fixed': 56.6, 'additional': 55.5},\n",
        "    'a Forward and RTO charges': {'fixed': 43.1, 'additional': 47.2},\n",
        "    'b Forward and RTO charges': {'fixed': 53.5, 'additional': 53.5},\n",
        "    'c Forward and RTO charges': {'fixed': 72, 'additional': 72},\n",
        "    'd Forward and RTO charges': {'fixed': 86.7, 'additional': 86.7},\n",
        "    'e Forward and RTO charges': {'fixed': 107.3, 'additional': 107.3}\n",
        "}\n",
        "\n"
      ],
      "metadata": {
        "id": "pDveKOfVog6D"
      },
      "execution_count": 90,
      "outputs": []
    },
    {
      "cell_type": "code",
      "source": [
        "def charges(a,b):\n",
        "  x=0\n",
        "  if a==0.5:\n",
        "    x=charges_dict[b]['fixed']\n",
        "  else:\n",
        "    x=charges_dict[b]['fixed']+charges_dict[b]['additional']*(int(a/0.5)-1)\n",
        "  return x\n"
      ],
      "metadata": {
        "colab": {
          "base_uri": "https://localhost:8080/"
        },
        "id": "nSrHu5V2EN6U",
        "outputId": "0c581262-ef2a-4c82-b0b6-69d2da8ab5b0"
      },
      "execution_count": 99,
      "outputs": [
        {
          "output_type": "stream",
          "name": "stdout",
          "text": [
            "135.0\n"
          ]
        }
      ]
    },
    {
      "cell_type": "code",
      "source": [
        "new['Actual_amount'] = new.apply(lambda x: charges(x['weight_slab'], x['key']) , axis=1)"
      ],
      "metadata": {
        "id": "w7x4UZBxEQBS"
      },
      "execution_count": 101,
      "outputs": []
    },
    {
      "cell_type": "code",
      "source": [
        "new"
      ],
      "metadata": {
        "colab": {
          "base_uri": "https://localhost:8080/",
          "height": 904
        },
        "id": "6Brt_21yIhsp",
        "outputId": "9fe86447-0861-4a84-ca10-44cd2210072b"
      },
      "execution_count": 102,
      "outputs": [
        {
          "output_type": "execute_result",
          "data": {
            "text/plain": [
              "          AWB Code    Order ID  Charged Weight  Warehouse Pincode  \\\n",
              "0    1091117222124  2001806232            1.30             121003   \n",
              "1    1091117222194  2001806273            1.00             121003   \n",
              "2    1091117222931  2001806408            2.50             121003   \n",
              "3    1091117223244  2001806458            1.00             121003   \n",
              "4    1091117229345  2001807012            0.15             121003   \n",
              "..             ...         ...             ...                ...   \n",
              "119  1091118551656  2001812941            0.73             121003   \n",
              "120  1091117614452  2001809383            0.50             121003   \n",
              "121  1091120922803  2001820978            0.50             121003   \n",
              "122  1091121844806  2001811475            0.50             121003   \n",
              "123  1091121846136  2001811305            0.50             121003   \n",
              "\n",
              "     Customer Pincode Zone         Type of Shipment  Billing Amount (Rs.)  \\\n",
              "0              507101    d          Forward charges                 135.0   \n",
              "1              486886    d          Forward charges                  90.2   \n",
              "2              532484    d          Forward charges                 224.6   \n",
              "3              143001    b          Forward charges                  61.3   \n",
              "4              515591    d          Forward charges                  45.4   \n",
              "..                ...  ...                      ...                   ...   \n",
              "119            325207    d          Forward charges                  90.2   \n",
              "120            303702    d  Forward and RTO charges                  86.7   \n",
              "121            313301    d          Forward charges                  45.4   \n",
              "122            173212    b          Forward charges                  33.0   \n",
              "123            302020    d          Forward charges                  45.4   \n",
              "\n",
              "     Order_Qty  xWeight_g  xtotal_weight Zone1                        key  \\\n",
              "0          8.0        377         1302.0     d          d Forward charges   \n",
              "1          4.0        615          615.0     d          d Forward charges   \n",
              "2         12.0        929         2265.0     d          d Forward charges   \n",
              "3          2.0        700          700.0     b          b Forward charges   \n",
              "4          1.0        240          240.0     d          d Forward charges   \n",
              "..         ...        ...            ...   ...                        ...   \n",
              "119        3.0        500          500.0     b          b Forward charges   \n",
              "120        3.0        607          607.0     b  b Forward and RTO charges   \n",
              "121        2.0        515          515.0     b          b Forward charges   \n",
              "122        4.0        689          689.0     e          e Forward charges   \n",
              "123        4.0        750          750.0     b          b Forward charges   \n",
              "\n",
              "     weight_slab  Actual_amount  \n",
              "0            1.5          135.0  \n",
              "1            1.0           90.2  \n",
              "2            2.5          224.6  \n",
              "3            1.0           61.3  \n",
              "4            0.5           45.4  \n",
              "..           ...            ...  \n",
              "119          0.5           33.0  \n",
              "120          1.0          107.0  \n",
              "121          1.0           61.3  \n",
              "122          1.0          112.1  \n",
              "123          1.0           61.3  \n",
              "\n",
              "[124 rows x 15 columns]"
            ],
            "text/html": [
              "\n",
              "  <div id=\"df-691923d5-0247-4bc6-9906-eeb7bb36a725\">\n",
              "    <div class=\"colab-df-container\">\n",
              "      <div>\n",
              "<style scoped>\n",
              "    .dataframe tbody tr th:only-of-type {\n",
              "        vertical-align: middle;\n",
              "    }\n",
              "\n",
              "    .dataframe tbody tr th {\n",
              "        vertical-align: top;\n",
              "    }\n",
              "\n",
              "    .dataframe thead th {\n",
              "        text-align: right;\n",
              "    }\n",
              "</style>\n",
              "<table border=\"1\" class=\"dataframe\">\n",
              "  <thead>\n",
              "    <tr style=\"text-align: right;\">\n",
              "      <th></th>\n",
              "      <th>AWB Code</th>\n",
              "      <th>Order ID</th>\n",
              "      <th>Charged Weight</th>\n",
              "      <th>Warehouse Pincode</th>\n",
              "      <th>Customer Pincode</th>\n",
              "      <th>Zone</th>\n",
              "      <th>Type of Shipment</th>\n",
              "      <th>Billing Amount (Rs.)</th>\n",
              "      <th>Order_Qty</th>\n",
              "      <th>xWeight_g</th>\n",
              "      <th>xtotal_weight</th>\n",
              "      <th>Zone1</th>\n",
              "      <th>key</th>\n",
              "      <th>weight_slab</th>\n",
              "      <th>Actual_amount</th>\n",
              "    </tr>\n",
              "  </thead>\n",
              "  <tbody>\n",
              "    <tr>\n",
              "      <th>0</th>\n",
              "      <td>1091117222124</td>\n",
              "      <td>2001806232</td>\n",
              "      <td>1.30</td>\n",
              "      <td>121003</td>\n",
              "      <td>507101</td>\n",
              "      <td>d</td>\n",
              "      <td>Forward charges</td>\n",
              "      <td>135.0</td>\n",
              "      <td>8.0</td>\n",
              "      <td>377</td>\n",
              "      <td>1302.0</td>\n",
              "      <td>d</td>\n",
              "      <td>d Forward charges</td>\n",
              "      <td>1.5</td>\n",
              "      <td>135.0</td>\n",
              "    </tr>\n",
              "    <tr>\n",
              "      <th>1</th>\n",
              "      <td>1091117222194</td>\n",
              "      <td>2001806273</td>\n",
              "      <td>1.00</td>\n",
              "      <td>121003</td>\n",
              "      <td>486886</td>\n",
              "      <td>d</td>\n",
              "      <td>Forward charges</td>\n",
              "      <td>90.2</td>\n",
              "      <td>4.0</td>\n",
              "      <td>615</td>\n",
              "      <td>615.0</td>\n",
              "      <td>d</td>\n",
              "      <td>d Forward charges</td>\n",
              "      <td>1.0</td>\n",
              "      <td>90.2</td>\n",
              "    </tr>\n",
              "    <tr>\n",
              "      <th>2</th>\n",
              "      <td>1091117222931</td>\n",
              "      <td>2001806408</td>\n",
              "      <td>2.50</td>\n",
              "      <td>121003</td>\n",
              "      <td>532484</td>\n",
              "      <td>d</td>\n",
              "      <td>Forward charges</td>\n",
              "      <td>224.6</td>\n",
              "      <td>12.0</td>\n",
              "      <td>929</td>\n",
              "      <td>2265.0</td>\n",
              "      <td>d</td>\n",
              "      <td>d Forward charges</td>\n",
              "      <td>2.5</td>\n",
              "      <td>224.6</td>\n",
              "    </tr>\n",
              "    <tr>\n",
              "      <th>3</th>\n",
              "      <td>1091117223244</td>\n",
              "      <td>2001806458</td>\n",
              "      <td>1.00</td>\n",
              "      <td>121003</td>\n",
              "      <td>143001</td>\n",
              "      <td>b</td>\n",
              "      <td>Forward charges</td>\n",
              "      <td>61.3</td>\n",
              "      <td>2.0</td>\n",
              "      <td>700</td>\n",
              "      <td>700.0</td>\n",
              "      <td>b</td>\n",
              "      <td>b Forward charges</td>\n",
              "      <td>1.0</td>\n",
              "      <td>61.3</td>\n",
              "    </tr>\n",
              "    <tr>\n",
              "      <th>4</th>\n",
              "      <td>1091117229345</td>\n",
              "      <td>2001807012</td>\n",
              "      <td>0.15</td>\n",
              "      <td>121003</td>\n",
              "      <td>515591</td>\n",
              "      <td>d</td>\n",
              "      <td>Forward charges</td>\n",
              "      <td>45.4</td>\n",
              "      <td>1.0</td>\n",
              "      <td>240</td>\n",
              "      <td>240.0</td>\n",
              "      <td>d</td>\n",
              "      <td>d Forward charges</td>\n",
              "      <td>0.5</td>\n",
              "      <td>45.4</td>\n",
              "    </tr>\n",
              "    <tr>\n",
              "      <th>...</th>\n",
              "      <td>...</td>\n",
              "      <td>...</td>\n",
              "      <td>...</td>\n",
              "      <td>...</td>\n",
              "      <td>...</td>\n",
              "      <td>...</td>\n",
              "      <td>...</td>\n",
              "      <td>...</td>\n",
              "      <td>...</td>\n",
              "      <td>...</td>\n",
              "      <td>...</td>\n",
              "      <td>...</td>\n",
              "      <td>...</td>\n",
              "      <td>...</td>\n",
              "      <td>...</td>\n",
              "    </tr>\n",
              "    <tr>\n",
              "      <th>119</th>\n",
              "      <td>1091118551656</td>\n",
              "      <td>2001812941</td>\n",
              "      <td>0.73</td>\n",
              "      <td>121003</td>\n",
              "      <td>325207</td>\n",
              "      <td>d</td>\n",
              "      <td>Forward charges</td>\n",
              "      <td>90.2</td>\n",
              "      <td>3.0</td>\n",
              "      <td>500</td>\n",
              "      <td>500.0</td>\n",
              "      <td>b</td>\n",
              "      <td>b Forward charges</td>\n",
              "      <td>0.5</td>\n",
              "      <td>33.0</td>\n",
              "    </tr>\n",
              "    <tr>\n",
              "      <th>120</th>\n",
              "      <td>1091117614452</td>\n",
              "      <td>2001809383</td>\n",
              "      <td>0.50</td>\n",
              "      <td>121003</td>\n",
              "      <td>303702</td>\n",
              "      <td>d</td>\n",
              "      <td>Forward and RTO charges</td>\n",
              "      <td>86.7</td>\n",
              "      <td>3.0</td>\n",
              "      <td>607</td>\n",
              "      <td>607.0</td>\n",
              "      <td>b</td>\n",
              "      <td>b Forward and RTO charges</td>\n",
              "      <td>1.0</td>\n",
              "      <td>107.0</td>\n",
              "    </tr>\n",
              "    <tr>\n",
              "      <th>121</th>\n",
              "      <td>1091120922803</td>\n",
              "      <td>2001820978</td>\n",
              "      <td>0.50</td>\n",
              "      <td>121003</td>\n",
              "      <td>313301</td>\n",
              "      <td>d</td>\n",
              "      <td>Forward charges</td>\n",
              "      <td>45.4</td>\n",
              "      <td>2.0</td>\n",
              "      <td>515</td>\n",
              "      <td>515.0</td>\n",
              "      <td>b</td>\n",
              "      <td>b Forward charges</td>\n",
              "      <td>1.0</td>\n",
              "      <td>61.3</td>\n",
              "    </tr>\n",
              "    <tr>\n",
              "      <th>122</th>\n",
              "      <td>1091121844806</td>\n",
              "      <td>2001811475</td>\n",
              "      <td>0.50</td>\n",
              "      <td>121003</td>\n",
              "      <td>173212</td>\n",
              "      <td>b</td>\n",
              "      <td>Forward charges</td>\n",
              "      <td>33.0</td>\n",
              "      <td>4.0</td>\n",
              "      <td>689</td>\n",
              "      <td>689.0</td>\n",
              "      <td>e</td>\n",
              "      <td>e Forward charges</td>\n",
              "      <td>1.0</td>\n",
              "      <td>112.1</td>\n",
              "    </tr>\n",
              "    <tr>\n",
              "      <th>123</th>\n",
              "      <td>1091121846136</td>\n",
              "      <td>2001811305</td>\n",
              "      <td>0.50</td>\n",
              "      <td>121003</td>\n",
              "      <td>302020</td>\n",
              "      <td>d</td>\n",
              "      <td>Forward charges</td>\n",
              "      <td>45.4</td>\n",
              "      <td>4.0</td>\n",
              "      <td>750</td>\n",
              "      <td>750.0</td>\n",
              "      <td>b</td>\n",
              "      <td>b Forward charges</td>\n",
              "      <td>1.0</td>\n",
              "      <td>61.3</td>\n",
              "    </tr>\n",
              "  </tbody>\n",
              "</table>\n",
              "<p>124 rows × 15 columns</p>\n",
              "</div>\n",
              "      <button class=\"colab-df-convert\" onclick=\"convertToInteractive('df-691923d5-0247-4bc6-9906-eeb7bb36a725')\"\n",
              "              title=\"Convert this dataframe to an interactive table.\"\n",
              "              style=\"display:none;\">\n",
              "        \n",
              "  <svg xmlns=\"http://www.w3.org/2000/svg\" height=\"24px\"viewBox=\"0 0 24 24\"\n",
              "       width=\"24px\">\n",
              "    <path d=\"M0 0h24v24H0V0z\" fill=\"none\"/>\n",
              "    <path d=\"M18.56 5.44l.94 2.06.94-2.06 2.06-.94-2.06-.94-.94-2.06-.94 2.06-2.06.94zm-11 1L8.5 8.5l.94-2.06 2.06-.94-2.06-.94L8.5 2.5l-.94 2.06-2.06.94zm10 10l.94 2.06.94-2.06 2.06-.94-2.06-.94-.94-2.06-.94 2.06-2.06.94z\"/><path d=\"M17.41 7.96l-1.37-1.37c-.4-.4-.92-.59-1.43-.59-.52 0-1.04.2-1.43.59L10.3 9.45l-7.72 7.72c-.78.78-.78 2.05 0 2.83L4 21.41c.39.39.9.59 1.41.59.51 0 1.02-.2 1.41-.59l7.78-7.78 2.81-2.81c.8-.78.8-2.07 0-2.86zM5.41 20L4 18.59l7.72-7.72 1.47 1.35L5.41 20z\"/>\n",
              "  </svg>\n",
              "      </button>\n",
              "      \n",
              "  <style>\n",
              "    .colab-df-container {\n",
              "      display:flex;\n",
              "      flex-wrap:wrap;\n",
              "      gap: 12px;\n",
              "    }\n",
              "\n",
              "    .colab-df-convert {\n",
              "      background-color: #E8F0FE;\n",
              "      border: none;\n",
              "      border-radius: 50%;\n",
              "      cursor: pointer;\n",
              "      display: none;\n",
              "      fill: #1967D2;\n",
              "      height: 32px;\n",
              "      padding: 0 0 0 0;\n",
              "      width: 32px;\n",
              "    }\n",
              "\n",
              "    .colab-df-convert:hover {\n",
              "      background-color: #E2EBFA;\n",
              "      box-shadow: 0px 1px 2px rgba(60, 64, 67, 0.3), 0px 1px 3px 1px rgba(60, 64, 67, 0.15);\n",
              "      fill: #174EA6;\n",
              "    }\n",
              "\n",
              "    [theme=dark] .colab-df-convert {\n",
              "      background-color: #3B4455;\n",
              "      fill: #D2E3FC;\n",
              "    }\n",
              "\n",
              "    [theme=dark] .colab-df-convert:hover {\n",
              "      background-color: #434B5C;\n",
              "      box-shadow: 0px 1px 3px 1px rgba(0, 0, 0, 0.15);\n",
              "      filter: drop-shadow(0px 1px 2px rgba(0, 0, 0, 0.3));\n",
              "      fill: #FFFFFF;\n",
              "    }\n",
              "  </style>\n",
              "\n",
              "      <script>\n",
              "        const buttonEl =\n",
              "          document.querySelector('#df-691923d5-0247-4bc6-9906-eeb7bb36a725 button.colab-df-convert');\n",
              "        buttonEl.style.display =\n",
              "          google.colab.kernel.accessAllowed ? 'block' : 'none';\n",
              "\n",
              "        async function convertToInteractive(key) {\n",
              "          const element = document.querySelector('#df-691923d5-0247-4bc6-9906-eeb7bb36a725');\n",
              "          const dataTable =\n",
              "            await google.colab.kernel.invokeFunction('convertToInteractive',\n",
              "                                                     [key], {});\n",
              "          if (!dataTable) return;\n",
              "\n",
              "          const docLinkHtml = 'Like what you see? Visit the ' +\n",
              "            '<a target=\"_blank\" href=https://colab.research.google.com/notebooks/data_table.ipynb>data table notebook</a>'\n",
              "            + ' to learn more about interactive tables.';\n",
              "          element.innerHTML = '';\n",
              "          dataTable['output_type'] = 'display_data';\n",
              "          await google.colab.output.renderOutput(dataTable, element);\n",
              "          const docLink = document.createElement('div');\n",
              "          docLink.innerHTML = docLinkHtml;\n",
              "          element.appendChild(docLink);\n",
              "        }\n",
              "      </script>\n",
              "    </div>\n",
              "  </div>\n",
              "  "
            ]
          },
          "metadata": {},
          "execution_count": 102
        }
      ]
    },
    {
      "cell_type": "code",
      "source": [
        "new1=new[['Billing Amount (Rs.)','Actual_amount']]\n",
        "\n"
      ],
      "metadata": {
        "colab": {
          "base_uri": "https://localhost:8080/",
          "height": 424
        },
        "id": "eJwyuj1LItrK",
        "outputId": "6e61860c-a997-4499-af07-66b8387ae9a1"
      },
      "execution_count": 105,
      "outputs": [
        {
          "output_type": "execute_result",
          "data": {
            "text/plain": [
              "     Billing Amount (Rs.)  Actual_amount\n",
              "0                   135.0          135.0\n",
              "1                    90.2           90.2\n",
              "2                   224.6          224.6\n",
              "3                    61.3           61.3\n",
              "4                    45.4           45.4\n",
              "..                    ...            ...\n",
              "119                  90.2           33.0\n",
              "120                  86.7          107.0\n",
              "121                  45.4           61.3\n",
              "122                  33.0          112.1\n",
              "123                  45.4           61.3\n",
              "\n",
              "[124 rows x 2 columns]"
            ],
            "text/html": [
              "\n",
              "  <div id=\"df-e86f69be-4385-493b-bb5e-e750f1666160\">\n",
              "    <div class=\"colab-df-container\">\n",
              "      <div>\n",
              "<style scoped>\n",
              "    .dataframe tbody tr th:only-of-type {\n",
              "        vertical-align: middle;\n",
              "    }\n",
              "\n",
              "    .dataframe tbody tr th {\n",
              "        vertical-align: top;\n",
              "    }\n",
              "\n",
              "    .dataframe thead th {\n",
              "        text-align: right;\n",
              "    }\n",
              "</style>\n",
              "<table border=\"1\" class=\"dataframe\">\n",
              "  <thead>\n",
              "    <tr style=\"text-align: right;\">\n",
              "      <th></th>\n",
              "      <th>Billing Amount (Rs.)</th>\n",
              "      <th>Actual_amount</th>\n",
              "    </tr>\n",
              "  </thead>\n",
              "  <tbody>\n",
              "    <tr>\n",
              "      <th>0</th>\n",
              "      <td>135.0</td>\n",
              "      <td>135.0</td>\n",
              "    </tr>\n",
              "    <tr>\n",
              "      <th>1</th>\n",
              "      <td>90.2</td>\n",
              "      <td>90.2</td>\n",
              "    </tr>\n",
              "    <tr>\n",
              "      <th>2</th>\n",
              "      <td>224.6</td>\n",
              "      <td>224.6</td>\n",
              "    </tr>\n",
              "    <tr>\n",
              "      <th>3</th>\n",
              "      <td>61.3</td>\n",
              "      <td>61.3</td>\n",
              "    </tr>\n",
              "    <tr>\n",
              "      <th>4</th>\n",
              "      <td>45.4</td>\n",
              "      <td>45.4</td>\n",
              "    </tr>\n",
              "    <tr>\n",
              "      <th>...</th>\n",
              "      <td>...</td>\n",
              "      <td>...</td>\n",
              "    </tr>\n",
              "    <tr>\n",
              "      <th>119</th>\n",
              "      <td>90.2</td>\n",
              "      <td>33.0</td>\n",
              "    </tr>\n",
              "    <tr>\n",
              "      <th>120</th>\n",
              "      <td>86.7</td>\n",
              "      <td>107.0</td>\n",
              "    </tr>\n",
              "    <tr>\n",
              "      <th>121</th>\n",
              "      <td>45.4</td>\n",
              "      <td>61.3</td>\n",
              "    </tr>\n",
              "    <tr>\n",
              "      <th>122</th>\n",
              "      <td>33.0</td>\n",
              "      <td>112.1</td>\n",
              "    </tr>\n",
              "    <tr>\n",
              "      <th>123</th>\n",
              "      <td>45.4</td>\n",
              "      <td>61.3</td>\n",
              "    </tr>\n",
              "  </tbody>\n",
              "</table>\n",
              "<p>124 rows × 2 columns</p>\n",
              "</div>\n",
              "      <button class=\"colab-df-convert\" onclick=\"convertToInteractive('df-e86f69be-4385-493b-bb5e-e750f1666160')\"\n",
              "              title=\"Convert this dataframe to an interactive table.\"\n",
              "              style=\"display:none;\">\n",
              "        \n",
              "  <svg xmlns=\"http://www.w3.org/2000/svg\" height=\"24px\"viewBox=\"0 0 24 24\"\n",
              "       width=\"24px\">\n",
              "    <path d=\"M0 0h24v24H0V0z\" fill=\"none\"/>\n",
              "    <path d=\"M18.56 5.44l.94 2.06.94-2.06 2.06-.94-2.06-.94-.94-2.06-.94 2.06-2.06.94zm-11 1L8.5 8.5l.94-2.06 2.06-.94-2.06-.94L8.5 2.5l-.94 2.06-2.06.94zm10 10l.94 2.06.94-2.06 2.06-.94-2.06-.94-.94-2.06-.94 2.06-2.06.94z\"/><path d=\"M17.41 7.96l-1.37-1.37c-.4-.4-.92-.59-1.43-.59-.52 0-1.04.2-1.43.59L10.3 9.45l-7.72 7.72c-.78.78-.78 2.05 0 2.83L4 21.41c.39.39.9.59 1.41.59.51 0 1.02-.2 1.41-.59l7.78-7.78 2.81-2.81c.8-.78.8-2.07 0-2.86zM5.41 20L4 18.59l7.72-7.72 1.47 1.35L5.41 20z\"/>\n",
              "  </svg>\n",
              "      </button>\n",
              "      \n",
              "  <style>\n",
              "    .colab-df-container {\n",
              "      display:flex;\n",
              "      flex-wrap:wrap;\n",
              "      gap: 12px;\n",
              "    }\n",
              "\n",
              "    .colab-df-convert {\n",
              "      background-color: #E8F0FE;\n",
              "      border: none;\n",
              "      border-radius: 50%;\n",
              "      cursor: pointer;\n",
              "      display: none;\n",
              "      fill: #1967D2;\n",
              "      height: 32px;\n",
              "      padding: 0 0 0 0;\n",
              "      width: 32px;\n",
              "    }\n",
              "\n",
              "    .colab-df-convert:hover {\n",
              "      background-color: #E2EBFA;\n",
              "      box-shadow: 0px 1px 2px rgba(60, 64, 67, 0.3), 0px 1px 3px 1px rgba(60, 64, 67, 0.15);\n",
              "      fill: #174EA6;\n",
              "    }\n",
              "\n",
              "    [theme=dark] .colab-df-convert {\n",
              "      background-color: #3B4455;\n",
              "      fill: #D2E3FC;\n",
              "    }\n",
              "\n",
              "    [theme=dark] .colab-df-convert:hover {\n",
              "      background-color: #434B5C;\n",
              "      box-shadow: 0px 1px 3px 1px rgba(0, 0, 0, 0.15);\n",
              "      filter: drop-shadow(0px 1px 2px rgba(0, 0, 0, 0.3));\n",
              "      fill: #FFFFFF;\n",
              "    }\n",
              "  </style>\n",
              "\n",
              "      <script>\n",
              "        const buttonEl =\n",
              "          document.querySelector('#df-e86f69be-4385-493b-bb5e-e750f1666160 button.colab-df-convert');\n",
              "        buttonEl.style.display =\n",
              "          google.colab.kernel.accessAllowed ? 'block' : 'none';\n",
              "\n",
              "        async function convertToInteractive(key) {\n",
              "          const element = document.querySelector('#df-e86f69be-4385-493b-bb5e-e750f1666160');\n",
              "          const dataTable =\n",
              "            await google.colab.kernel.invokeFunction('convertToInteractive',\n",
              "                                                     [key], {});\n",
              "          if (!dataTable) return;\n",
              "\n",
              "          const docLinkHtml = 'Like what you see? Visit the ' +\n",
              "            '<a target=\"_blank\" href=https://colab.research.google.com/notebooks/data_table.ipynb>data table notebook</a>'\n",
              "            + ' to learn more about interactive tables.';\n",
              "          element.innerHTML = '';\n",
              "          dataTable['output_type'] = 'display_data';\n",
              "          await google.colab.output.renderOutput(dataTable, element);\n",
              "          const docLink = document.createElement('div');\n",
              "          docLink.innerHTML = docLinkHtml;\n",
              "          element.appendChild(docLink);\n",
              "        }\n",
              "      </script>\n",
              "    </div>\n",
              "  </div>\n",
              "  "
            ]
          },
          "metadata": {},
          "execution_count": 105
        }
      ]
    },
    {
      "cell_type": "code",
      "source": [
        "\n",
        "# define function to compute correct, overcharged, and undercharged orders\n",
        "def compute_orders(row):\n",
        "    billing_amount = row['Billing Amount (Rs.)']\n",
        "    actual_amount = row['Actual_amount']\n",
        "    \n",
        "    if billing_amount == actual_amount:\n",
        "        return ('correct', 1, billing_amount)\n",
        "    elif actual_amount > billing_amount:\n",
        "        return ('undercharged', 1, actual_amount - billing_amount)\n",
        "    else:\n",
        "        return ('overcharged', 1, billing_amount - actual_amount)\n",
        "\n",
        "# apply function to create new columns\n",
        "new1[['order_type', 'order_count', 'total_amount']] = new1.apply(compute_orders, axis=1, result_type='expand')\n",
        "\n",
        "# groupby to get count and total amount for each order type\n",
        "order_summary = new1.groupby('order_type').agg({'order_count': 'sum', 'total_amount': 'sum'})\n",
        "\n",
        "# print order summary\n",
        "order_summary"
      ],
      "metadata": {
        "colab": {
          "base_uri": "https://localhost:8080/",
          "height": 279
        },
        "id": "OvjNBa6GJOGC",
        "outputId": "ce43fd0d-af9b-4866-e627-172f6d7c563c"
      },
      "execution_count": 114,
      "outputs": [
        {
          "output_type": "stream",
          "name": "stderr",
          "text": [
            "/usr/local/lib/python3.8/dist-packages/pandas/core/frame.py:3641: SettingWithCopyWarning: \n",
            "A value is trying to be set on a copy of a slice from a DataFrame.\n",
            "Try using .loc[row_indexer,col_indexer] = value instead\n",
            "\n",
            "See the caveats in the documentation: https://pandas.pydata.org/pandas-docs/stable/user_guide/indexing.html#returning-a-view-versus-a-copy\n",
            "  self[k1] = value[k2]\n"
          ]
        },
        {
          "output_type": "execute_result",
          "data": {
            "text/plain": [
              "              order_count  total_amount\n",
              "order_type                             \n",
              "correct                16        1314.6\n",
              "overcharged            85        4483.2\n",
              "undercharged           23         524.2"
            ],
            "text/html": [
              "\n",
              "  <div id=\"df-d64d2b52-6281-401a-93ea-1f04eefab2e6\">\n",
              "    <div class=\"colab-df-container\">\n",
              "      <div>\n",
              "<style scoped>\n",
              "    .dataframe tbody tr th:only-of-type {\n",
              "        vertical-align: middle;\n",
              "    }\n",
              "\n",
              "    .dataframe tbody tr th {\n",
              "        vertical-align: top;\n",
              "    }\n",
              "\n",
              "    .dataframe thead th {\n",
              "        text-align: right;\n",
              "    }\n",
              "</style>\n",
              "<table border=\"1\" class=\"dataframe\">\n",
              "  <thead>\n",
              "    <tr style=\"text-align: right;\">\n",
              "      <th></th>\n",
              "      <th>order_count</th>\n",
              "      <th>total_amount</th>\n",
              "    </tr>\n",
              "    <tr>\n",
              "      <th>order_type</th>\n",
              "      <th></th>\n",
              "      <th></th>\n",
              "    </tr>\n",
              "  </thead>\n",
              "  <tbody>\n",
              "    <tr>\n",
              "      <th>correct</th>\n",
              "      <td>16</td>\n",
              "      <td>1314.6</td>\n",
              "    </tr>\n",
              "    <tr>\n",
              "      <th>overcharged</th>\n",
              "      <td>85</td>\n",
              "      <td>4483.2</td>\n",
              "    </tr>\n",
              "    <tr>\n",
              "      <th>undercharged</th>\n",
              "      <td>23</td>\n",
              "      <td>524.2</td>\n",
              "    </tr>\n",
              "  </tbody>\n",
              "</table>\n",
              "</div>\n",
              "      <button class=\"colab-df-convert\" onclick=\"convertToInteractive('df-d64d2b52-6281-401a-93ea-1f04eefab2e6')\"\n",
              "              title=\"Convert this dataframe to an interactive table.\"\n",
              "              style=\"display:none;\">\n",
              "        \n",
              "  <svg xmlns=\"http://www.w3.org/2000/svg\" height=\"24px\"viewBox=\"0 0 24 24\"\n",
              "       width=\"24px\">\n",
              "    <path d=\"M0 0h24v24H0V0z\" fill=\"none\"/>\n",
              "    <path d=\"M18.56 5.44l.94 2.06.94-2.06 2.06-.94-2.06-.94-.94-2.06-.94 2.06-2.06.94zm-11 1L8.5 8.5l.94-2.06 2.06-.94-2.06-.94L8.5 2.5l-.94 2.06-2.06.94zm10 10l.94 2.06.94-2.06 2.06-.94-2.06-.94-.94-2.06-.94 2.06-2.06.94z\"/><path d=\"M17.41 7.96l-1.37-1.37c-.4-.4-.92-.59-1.43-.59-.52 0-1.04.2-1.43.59L10.3 9.45l-7.72 7.72c-.78.78-.78 2.05 0 2.83L4 21.41c.39.39.9.59 1.41.59.51 0 1.02-.2 1.41-.59l7.78-7.78 2.81-2.81c.8-.78.8-2.07 0-2.86zM5.41 20L4 18.59l7.72-7.72 1.47 1.35L5.41 20z\"/>\n",
              "  </svg>\n",
              "      </button>\n",
              "      \n",
              "  <style>\n",
              "    .colab-df-container {\n",
              "      display:flex;\n",
              "      flex-wrap:wrap;\n",
              "      gap: 12px;\n",
              "    }\n",
              "\n",
              "    .colab-df-convert {\n",
              "      background-color: #E8F0FE;\n",
              "      border: none;\n",
              "      border-radius: 50%;\n",
              "      cursor: pointer;\n",
              "      display: none;\n",
              "      fill: #1967D2;\n",
              "      height: 32px;\n",
              "      padding: 0 0 0 0;\n",
              "      width: 32px;\n",
              "    }\n",
              "\n",
              "    .colab-df-convert:hover {\n",
              "      background-color: #E2EBFA;\n",
              "      box-shadow: 0px 1px 2px rgba(60, 64, 67, 0.3), 0px 1px 3px 1px rgba(60, 64, 67, 0.15);\n",
              "      fill: #174EA6;\n",
              "    }\n",
              "\n",
              "    [theme=dark] .colab-df-convert {\n",
              "      background-color: #3B4455;\n",
              "      fill: #D2E3FC;\n",
              "    }\n",
              "\n",
              "    [theme=dark] .colab-df-convert:hover {\n",
              "      background-color: #434B5C;\n",
              "      box-shadow: 0px 1px 3px 1px rgba(0, 0, 0, 0.15);\n",
              "      filter: drop-shadow(0px 1px 2px rgba(0, 0, 0, 0.3));\n",
              "      fill: #FFFFFF;\n",
              "    }\n",
              "  </style>\n",
              "\n",
              "      <script>\n",
              "        const buttonEl =\n",
              "          document.querySelector('#df-d64d2b52-6281-401a-93ea-1f04eefab2e6 button.colab-df-convert');\n",
              "        buttonEl.style.display =\n",
              "          google.colab.kernel.accessAllowed ? 'block' : 'none';\n",
              "\n",
              "        async function convertToInteractive(key) {\n",
              "          const element = document.querySelector('#df-d64d2b52-6281-401a-93ea-1f04eefab2e6');\n",
              "          const dataTable =\n",
              "            await google.colab.kernel.invokeFunction('convertToInteractive',\n",
              "                                                     [key], {});\n",
              "          if (!dataTable) return;\n",
              "\n",
              "          const docLinkHtml = 'Like what you see? Visit the ' +\n",
              "            '<a target=\"_blank\" href=https://colab.research.google.com/notebooks/data_table.ipynb>data table notebook</a>'\n",
              "            + ' to learn more about interactive tables.';\n",
              "          element.innerHTML = '';\n",
              "          dataTable['output_type'] = 'display_data';\n",
              "          await google.colab.output.renderOutput(dataTable, element);\n",
              "          const docLink = document.createElement('div');\n",
              "          docLink.innerHTML = docLinkHtml;\n",
              "          element.appendChild(docLink);\n",
              "        }\n",
              "      </script>\n",
              "    </div>\n",
              "  </div>\n",
              "  "
            ]
          },
          "metadata": {},
          "execution_count": 114
        }
      ]
    },
    {
      "cell_type": "code",
      "source": [],
      "metadata": {
        "id": "GneeLj0hLFM5"
      },
      "execution_count": null,
      "outputs": []
    }
  ]
}